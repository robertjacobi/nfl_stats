{
 "cells": [
  {
   "cell_type": "code",
   "execution_count": 17,
   "metadata": {},
   "outputs": [],
   "source": [
    "# Dependencies and Setup\n",
    "import pandas as pd\n",
    "\n",
    "\n",
    "# Raw data file\n",
    "file_to_load = \"Resources/nfl_data.csv\"\n",
    "\n",
    "# Read purchasing file and store into pandas data frame\n",
    "nfldata_raw = pd.read_csv(file_to_load)"
   ]
  },
  {
   "cell_type": "code",
   "execution_count": 20,
   "metadata": {},
   "outputs": [
    {
     "name": "stderr",
     "output_type": "stream",
     "text": [
      "C:\\Users\\Kristopher Bognot\\Anaconda3\\lib\\site-packages\\ipykernel_launcher.py:4: SettingWithCopyWarning: \n",
      "A value is trying to be set on a copy of a slice from a DataFrame.\n",
      "Try using .loc[row_indexer,col_indexer] = value instead\n",
      "\n",
      "See the caveats in the documentation: http://pandas.pydata.org/pandas-docs/stable/indexing.html#indexing-view-versus-copy\n",
      "  after removing the cwd from sys.path.\n",
      "C:\\Users\\Kristopher Bognot\\Anaconda3\\lib\\site-packages\\ipykernel_launcher.py:5: SettingWithCopyWarning: \n",
      "A value is trying to be set on a copy of a slice from a DataFrame\n",
      "\n",
      "See the caveats in the documentation: http://pandas.pydata.org/pandas-docs/stable/indexing.html#indexing-view-versus-copy\n",
      "  \"\"\"\n"
     ]
    },
    {
     "data": {
      "text/plain": [
       "Date            346534\n",
       "GameID          346534\n",
       "down            346534\n",
       "Yards.Gained    346534\n",
       "FirstDown       346534\n",
       "Touchdown       346534\n",
       "PlayType        346534\n",
       "PassOutcome     167724\n",
       "PassLength      167163\n",
       "AirYards        346534\n",
       "PassLocation    167163\n",
       "RushAttempt     346534\n",
       "RunLocation     119329\n",
       "Reception       346534\n",
       "Season          346534\n",
       "PlayCount       346534\n",
       "dtype: int64"
      ]
     },
     "execution_count": 20,
     "metadata": {},
     "output_type": "execute_result"
    }
   ],
   "source": [
    "#Grabbing Columns relavent to our research\n",
    "nfl = nfldata_raw[[\"Date\", \"GameID\", \"down\", \"Yards.Gained\", \"FirstDown\", \"Touchdown\", \"PlayType\", \\\n",
    "                  \"PassOutcome\", \"PassLength\", \"AirYards\", \"PassLocation\", \"RushAttempt\", \\\n",
    "                  \"RunLocation\", \"Reception\", \"Season\"]]\n",
    "#creating a column to count play for future sumations\n",
    "nfl[\"PlayCount\"] = 1\n",
    "nfl.dropna(subset=[\"down\"], inplace=True)\n",
    "nfl.count()"
   ]
  },
  {
   "cell_type": "code",
   "execution_count": null,
   "metadata": {},
   "outputs": [],
   "source": []
  }
 ],
 "metadata": {
  "kernelspec": {
   "display_name": "Python 3",
   "language": "python",
   "name": "python3"
  },
  "language_info": {
   "codemirror_mode": {
    "name": "ipython",
    "version": 3
   },
   "file_extension": ".py",
   "mimetype": "text/x-python",
   "name": "python",
   "nbconvert_exporter": "python",
   "pygments_lexer": "ipython3",
   "version": "3.6.5"
  }
 },
 "nbformat": 4,
 "nbformat_minor": 2
}
