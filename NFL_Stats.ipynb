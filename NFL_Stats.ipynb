{
 "cells": [
  {
   "cell_type": "code",
   "execution_count": 31,
   "metadata": {},
   "outputs": [],
   "source": [
    "# Dependencies and Setup\n",
    "import pandas as pd\n",
    "\n",
    "\n",
    "# Raw data file\n",
    "file_to_load = \"Resources/nfl_data.csv\"\n",
    "\n",
    "# Read purchasing file and store into pandas data frame\n",
    "nfldata_raw = pd.read_csv(file_to_load)"
   ]
  },
  {
   "cell_type": "code",
   "execution_count": 34,
   "metadata": {},
   "outputs": [
    {
     "name": "stderr",
     "output_type": "stream",
     "text": [
      "C:\\Users\\Kristopher Bognot\\Anaconda3\\lib\\site-packages\\ipykernel_launcher.py:5: SettingWithCopyWarning: \n",
      "A value is trying to be set on a copy of a slice from a DataFrame.\n",
      "Try using .loc[row_indexer,col_indexer] = value instead\n",
      "\n",
      "See the caveats in the documentation: http://pandas.pydata.org/pandas-docs/stable/indexing.html#indexing-view-versus-copy\n",
      "  \"\"\"\n",
      "C:\\Users\\Kristopher Bognot\\Anaconda3\\lib\\site-packages\\ipykernel_launcher.py:8: SettingWithCopyWarning: \n",
      "A value is trying to be set on a copy of a slice from a DataFrame\n",
      "\n",
      "See the caveats in the documentation: http://pandas.pydata.org/pandas-docs/stable/indexing.html#indexing-view-versus-copy\n",
      "  \n"
     ]
    },
    {
     "data": {
      "text/plain": [
       "Date            346534\n",
       "GameID          346534\n",
       "down            346534\n",
       "Yards.Gained    346534\n",
       "FirstDown       346534\n",
       "Touchdown       346534\n",
       "PlayType        346534\n",
       "PassOutcome     167724\n",
       "PassLength      167163\n",
       "AirYards        346534\n",
       "PassLocation    167163\n",
       "RushAttempt     346534\n",
       "RunLocation     119329\n",
       "Reception       346534\n",
       "Season          346534\n",
       "PlayCount       346534\n",
       "dtype: int64"
      ]
     },
     "execution_count": 34,
     "metadata": {},
     "output_type": "execute_result"
    }
   ],
   "source": [
    "#Grabbing Columns relavent to our research\n",
    "nfl = nfldata_raw[[\"Date\", \"GameID\", \"down\", \"Yards.Gained\", \"FirstDown\", \"Touchdown\", \"PlayType\", \\\n",
    "                  \"PassOutcome\", \"PassLength\", \"AirYards\", \"PassLocation\", \"RushAttempt\", \\\n",
    "                  \"RunLocation\", \"Reception\", \"Season\"]]\n",
    "\n",
    "#creating a column to count play for future sumations\n",
    "nfl[\"PlayCount\"] = 1\n",
    "\n",
    "#dropping rows where [down]=Nan; these represent special teams plays and extra points\n",
    "nfl.dropna(subset=[\"down\"], inplace=True)\n",
    "nfl.count()"
   ]
  },
  {
   "cell_type": "code",
   "execution_count": 61,
   "metadata": {
    "scrolled": false
   },
   "outputs": [
    {
     "data": {
      "text/html": [
       "<div>\n",
       "<style scoped>\n",
       "    .dataframe tbody tr th:only-of-type {\n",
       "        vertical-align: middle;\n",
       "    }\n",
       "\n",
       "    .dataframe tbody tr th {\n",
       "        vertical-align: top;\n",
       "    }\n",
       "\n",
       "    .dataframe thead th {\n",
       "        text-align: right;\n",
       "    }\n",
       "</style>\n",
       "<table border=\"1\" class=\"dataframe\">\n",
       "  <thead>\n",
       "    <tr style=\"text-align: right;\">\n",
       "      <th></th>\n",
       "      <th>down</th>\n",
       "      <th>Yards.Gained</th>\n",
       "      <th>AirYards</th>\n",
       "      <th>FirstDown</th>\n",
       "      <th>Touchdown</th>\n",
       "      <th>PlayCount</th>\n",
       "    </tr>\n",
       "  </thead>\n",
       "  <tbody>\n",
       "    <tr>\n",
       "      <th>0</th>\n",
       "      <td>1</td>\n",
       "      <td>447898</td>\n",
       "      <td>512854</td>\n",
       "      <td>16030.0</td>\n",
       "      <td>2613</td>\n",
       "      <td>59329</td>\n",
       "    </tr>\n",
       "    <tr>\n",
       "      <th>1</th>\n",
       "      <td>2</td>\n",
       "      <td>367297</td>\n",
       "      <td>402372</td>\n",
       "      <td>16295.0</td>\n",
       "      <td>2419</td>\n",
       "      <td>52840</td>\n",
       "    </tr>\n",
       "    <tr>\n",
       "      <th>2</th>\n",
       "      <td>3</td>\n",
       "      <td>312234</td>\n",
       "      <td>387925</td>\n",
       "      <td>15568.0</td>\n",
       "      <td>2379</td>\n",
       "      <td>44229</td>\n",
       "    </tr>\n",
       "    <tr>\n",
       "      <th>3</th>\n",
       "      <td>4</td>\n",
       "      <td>15725</td>\n",
       "      <td>26602</td>\n",
       "      <td>2098.0</td>\n",
       "      <td>238</td>\n",
       "      <td>2530</td>\n",
       "    </tr>\n",
       "    <tr>\n",
       "      <th>0</th>\n",
       "      <td>Totals</td>\n",
       "      <td>1143154</td>\n",
       "      <td>1329753</td>\n",
       "      <td>49991.0</td>\n",
       "      <td>7649</td>\n",
       "      <td>158928</td>\n",
       "    </tr>\n",
       "  </tbody>\n",
       "</table>\n",
       "</div>"
      ],
      "text/plain": [
       "     down  Yards.Gained  AirYards  FirstDown  Touchdown  PlayCount\n",
       "0       1        447898    512854    16030.0       2613      59329\n",
       "1       2        367297    402372    16295.0       2419      52840\n",
       "2       3        312234    387925    15568.0       2379      44229\n",
       "3       4         15725     26602     2098.0        238       2530\n",
       "0  Totals       1143154   1329753    49991.0       7649     158928"
      ]
     },
     "execution_count": 61,
     "metadata": {},
     "output_type": "execute_result"
    }
   ],
   "source": [
    "#NFL Passing Data\n",
    "#Grabbing only the records where the PlayType = Pass from our NFL Data\n",
    "nfl_pass = nfl.loc[nfl['PlayType'] == \"Pass\"]\n",
    "\n",
    "#Create DataFrame for only Passing columns\n",
    "npass = nfl_pass[[\"down\", \"Yards.Gained\", \"AirYards\", \"FirstDown\", \"Touchdown\", \"PlayCount\"]]\n",
    "\n",
    "#Group by Down\n",
    "p = npass.groupby([\"down\"]).sum()\n",
    "p = n.reset_index()\n",
    "\n",
    "#Create DataFrame of Totals for all downs\n",
    "totals = pd.DataFrame({\"down\": [\"Totals\"], \n",
    "                       \"Yards.Gained\": n[\"Yards.Gained\"].sum(),\n",
    "                       \"AirYards\": n[\"AirYards\"].sum(),\n",
    "                       \"FirstDown\": n[\"FirstDown\"].sum(),\n",
    "                       \"Touchdown\": n[\"Touchdown\"].sum(),\n",
    "                       \"PlayCount\": n[\"PlayCount\"].sum()})\n",
    "\n",
    "#Append Totals to Pass table\n",
    "p = p.append(totals)\n",
    "p"
   ]
  },
  {
   "cell_type": "code",
   "execution_count": null,
   "metadata": {},
   "outputs": [],
   "source": []
  },
  {
   "cell_type": "code",
   "execution_count": null,
   "metadata": {},
   "outputs": [],
   "source": []
  }
 ],
 "metadata": {
  "kernelspec": {
   "display_name": "Python 3",
   "language": "python",
   "name": "python3"
  },
  "language_info": {
   "codemirror_mode": {
    "name": "ipython",
    "version": 3
   },
   "file_extension": ".py",
   "mimetype": "text/x-python",
   "name": "python",
   "nbconvert_exporter": "python",
   "pygments_lexer": "ipython3",
   "version": "3.6.5"
  }
 },
 "nbformat": 4,
 "nbformat_minor": 2
}
